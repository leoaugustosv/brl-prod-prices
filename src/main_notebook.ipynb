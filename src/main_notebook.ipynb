{
 "cells": [
  {
   "cell_type": "markdown",
   "metadata": {},
   "source": [
    "### Start SparkSession"
   ]
  },
  {
   "cell_type": "code",
   "execution_count": null,
   "metadata": {},
   "outputs": [],
   "source": [
    "from common.libs.spark import *\n",
    "from common.parameters.common_params import *"
   ]
  },
  {
   "cell_type": "code",
   "execution_count": null,
   "metadata": {},
   "outputs": [],
   "source": [
    "spark = create_spark_session(create_hive_db=False)\n",
    "spark.catalog.listDatabases()"
   ]
  },
  {
   "cell_type": "markdown",
   "metadata": {},
   "source": [
    "### Database Setup"
   ]
  },
  {
   "cell_type": "code",
   "execution_count": null,
   "metadata": {},
   "outputs": [],
   "source": [
    "spark.sql(f\"CREATE DATABASE IF NOT EXISTS {DATABASE_NAME}\")\n",
    "spark.sql(\"SHOW DATABASES\").show()"
   ]
  },
  {
   "cell_type": "markdown",
   "metadata": {},
   "source": [
    "### Tables"
   ]
  },
  {
   "cell_type": "code",
   "execution_count": null,
   "metadata": {},
   "outputs": [],
   "source": [
    "spark.sql(f\"SHOW TABLES IN {DATABASE_NAME}\").show()"
   ]
  },
  {
   "cell_type": "markdown",
   "metadata": {},
   "source": [
    "#### Bronzes"
   ]
  },
  {
   "cell_type": "markdown",
   "metadata": {},
   "source": [
    "##### b_products"
   ]
  },
  {
   "cell_type": "code",
   "execution_count": null,
   "metadata": {},
   "outputs": [],
   "source": [
    "part_name = (\n",
    "    spark.sql(f\"DESCRIBE DETAIL {DATABASE_NAME}.{BRONZE_PRODUCTS_TABLE}\")\n",
    "    .select(\"partitionColumns\")\n",
    "    .collect()[0][0][0]\n",
    ")\n",
    "\n",
    "distinct_parts = (\n",
    "    spark.sql(f\"select distinct {part_name} from {DATABASE_NAME}.{BRONZE_PRODUCTS_TABLE} order by 1 desc;\")\n",
    ")\n",
    "\n",
    "distinct_parts.show(truncate=False)"
   ]
  },
  {
   "cell_type": "code",
   "execution_count": null,
   "metadata": {},
   "outputs": [],
   "source": [
    "distinct_execs = (\n",
    "    spark.sql(f\"select distinct dh_exec from {DATABASE_NAME}.{BRONZE_PRODUCTS_TABLE} order by 1 desc;\")\n",
    ").show()"
   ]
  },
  {
   "cell_type": "code",
   "execution_count": null,
   "metadata": {},
   "outputs": [],
   "source": [
    "df = (\n",
    "    read_table(spark, f\"{DATABASE_NAME}.{BRONZE_PRODUCTS_TABLE}\", last_part_only=True)\n",
    ")\n",
    "df.show()"
   ]
  },
  {
   "cell_type": "markdown",
   "metadata": {},
   "source": [
    "##### b_sellers"
   ]
  },
  {
   "cell_type": "code",
   "execution_count": null,
   "metadata": {},
   "outputs": [],
   "source": [
    "part_name = (\n",
    "    spark.sql(f\"DESCRIBE DETAIL {DATABASE_NAME}.{BRONZE_SELLERS_TABLE}\")\n",
    "    .select(\"partitionColumns\")\n",
    "    .collect()[0][0][0]\n",
    ")\n",
    "\n",
    "distinct_parts = (\n",
    "    spark.sql(f\"select distinct {part_name} from {DATABASE_NAME}.{BRONZE_SELLERS_TABLE} order by 1 desc;\")\n",
    ")\n",
    "\n",
    "distinct_parts.show(truncate=False)"
   ]
  },
  {
   "cell_type": "code",
   "execution_count": null,
   "metadata": {},
   "outputs": [],
   "source": [
    "df = (\n",
    "    read_table(spark, f\"{DATABASE_NAME}.{BRONZE_SELLERS_TABLE}\", last_part_only=False)\n",
    ")\n",
    "df.show()"
   ]
  },
  {
   "cell_type": "markdown",
   "metadata": {},
   "source": [
    "#### Silvers"
   ]
  },
  {
   "cell_type": "markdown",
   "metadata": {},
   "source": [
    "##### s_catalog_products"
   ]
  },
  {
   "cell_type": "code",
   "execution_count": null,
   "metadata": {},
   "outputs": [],
   "source": [
    "part_name = (\n",
    "    spark.sql(f\"DESCRIBE DETAIL {DATABASE_NAME}.{SILVER_CATALOG_PRODUCTS_TABLE}\")\n",
    "    .select(\"partitionColumns\")\n",
    "    .collect()[0][0][0]\n",
    ")\n",
    "\n",
    "distinct_parts = (\n",
    "    spark.sql(f\"select distinct {part_name} from {DATABASE_NAME}.{SILVER_CATALOG_PRODUCTS_TABLE} order by 1 desc;\")\n",
    ")\n",
    "\n",
    "distinct_parts.show(truncate=False)"
   ]
  },
  {
   "cell_type": "code",
   "execution_count": null,
   "metadata": {},
   "outputs": [],
   "source": [
    "df = read_table(spark, f\"{DATABASE_NAME}.{SILVER_CATALOG_PRODUCTS_TABLE}\", last_part_only=True)\n",
    "df.show()"
   ]
  },
  {
   "cell_type": "markdown",
   "metadata": {},
   "source": [
    "##### s_last_ver_products_table"
   ]
  },
  {
   "cell_type": "code",
   "execution_count": null,
   "metadata": {},
   "outputs": [],
   "source": [
    "part_name = (\n",
    "    spark.sql(f\"DESCRIBE DETAIL {DATABASE_NAME}.{SILVER_LAST_VER_PRODUCTS_TABLE}\")\n",
    "    .select(\"partitionColumns\")\n",
    "    .collect()[0][0][0]\n",
    ")\n",
    "\n",
    "distinct_parts = (\n",
    "    spark.sql(f\"select distinct {part_name} from {DATABASE_NAME}.{SILVER_LAST_VER_PRODUCTS_TABLE} order by 1 desc;\")\n",
    ")\n",
    "\n",
    "distinct_parts.show(truncate=False)"
   ]
  },
  {
   "cell_type": "code",
   "execution_count": null,
   "metadata": {},
   "outputs": [],
   "source": [
    "df = read_table(spark, f\"{DATABASE_NAME}.{SILVER_LAST_VER_PRODUCTS_TABLE}\", last_part_only=True)\n",
    "df.limit(20).show(truncate=False)"
   ]
  },
  {
   "cell_type": "markdown",
   "metadata": {},
   "source": [
    "##### s_categories_catalog"
   ]
  },
  {
   "cell_type": "code",
   "execution_count": null,
   "metadata": {},
   "outputs": [],
   "source": [
    "part_name = (\n",
    "    spark.sql(f\"DESCRIBE DETAIL {DATABASE_NAME}.{SILVER_CATEGORIES_TABLE}\")\n",
    "    .select(\"partitionColumns\")\n",
    "    .collect()[0][0][0]\n",
    ")\n",
    "\n",
    "distinct_parts = (\n",
    "    spark.sql(f\"select distinct {part_name} from {DATABASE_NAME}.{SILVER_CATEGORIES_TABLE} order by 1 desc;\")\n",
    ")\n",
    "\n",
    "distinct_parts.show(truncate=False)"
   ]
  },
  {
   "cell_type": "code",
   "execution_count": null,
   "metadata": {},
   "outputs": [],
   "source": [
    "df = read_table(spark, f\"{DATABASE_NAME}.{SILVER_CATEGORIES_TABLE}\", last_part_only=True)\n",
    "df.limit(20).show(truncate=False)"
   ]
  },
  {
   "cell_type": "markdown",
   "metadata": {},
   "source": [
    "# IMPORTANT"
   ]
  },
  {
   "cell_type": "markdown",
   "metadata": {},
   "source": [
    "### <u>**Always run the cell below before running table operations outside of Jupyter notebooks**</u>."
   ]
  },
  {
   "cell_type": "markdown",
   "metadata": {},
   "source": [
    "#### If you ran any cell in this or other .ipynb that interacts with brd-prod-prices.db, the current Derby instance will lock the database from further operations until you exit the kernel."
   ]
  },
  {
   "cell_type": "code",
   "execution_count": null,
   "metadata": {},
   "outputs": [],
   "source": [
    "exit()"
   ]
  }
 ],
 "metadata": {
  "kernelspec": {
   "display_name": "venv",
   "language": "python",
   "name": "python3"
  },
  "language_info": {
   "codemirror_mode": {
    "name": "ipython",
    "version": 3
   },
   "file_extension": ".py",
   "mimetype": "text/x-python",
   "name": "python",
   "nbconvert_exporter": "python",
   "pygments_lexer": "ipython3",
   "version": "3.10.0"
  }
 },
 "nbformat": 4,
 "nbformat_minor": 2
}
